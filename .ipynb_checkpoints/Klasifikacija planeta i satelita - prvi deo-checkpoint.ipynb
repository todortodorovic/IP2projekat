{
 "cells": [
  {
   "cell_type": "markdown",
   "id": "83303994-307d-422a-808e-a79e89970f7c",
   "metadata": {},
   "source": [
    "# Uvod"
   ]
  },
  {
   "cell_type": "markdown",
   "id": "98b7000f-02ad-4981-b042-34b18203c15f",
   "metadata": {},
   "source": [
    "Klasifikacija planeta i satelita Sunčevog sistema, čime će se baviti ovaj projekat, je zadatak koji nalazi svoju primenu u oblastima astronomije i istraživanja svemira. Cilj projekta je da se, koristeći napredne tehnike obrade slika i mašinskog učenja, predstavi model koji će biti sposoban da prepozna i razlikuje prvo planete, a zatim i njihove prirodne satelite na osnovu njihovih fotografija.  \n",
    "\n",
    "Isti model će biti primenjen za obe klasifikacije. "
   ]
  },
  {
   "cell_type": "markdown",
   "id": "ab7a1292-ce0e-42fd-bbcc-b95d5397b658",
   "metadata": {},
   "source": [
    "## Planete"
   ]
  },
  {
   "cell_type": "markdown",
   "id": "85c8ec3b-7163-4abd-89fd-79a69e6b962b",
   "metadata": {},
   "source": [
    "Sunčev sistem se sastoji od 8 planeta, koji ujedno predstavljaju i klase koje će model predviđati:  \n",
    "Merkur, Venera, Zemlja, Mars, Jupiter, Saturn, Uran i Neptun.  \n",
    "\n",
    "Baza slika korišćena za njihovu klasifikaciju može se pronaći na sledećem linku:  \n",
    "https://www.kaggle.com/datasets/emirhanai/planets-and-moons-dataset-ai-in-space?resource=download\n",
    "\n",
    "Svaka planeta ima oko 150 fotografija, što čini osnovni skup za dalju analizu. \n",
    "\n",
    "U ovom delu projekta, biće prikazana dva načina za učitavanje lične baze podataka, jedan preko keras.utils biblioteke, a drugi preko klase ImageDataGenerator.  \n",
    "Razlika između ova dva pristupa je što prvi učitava neizmenjene slike, dok korišćenje drugog podrazumeva proširenje gotovog skupa podataka preko augmentacije slika koristeći nasumično uvećanje, rotiranje, sečenje i okretanje fotografija, što doprinosi većoj raznolikosti podataka i povećanje sposobnosti generalizacije modela. "
   ]
  },
  {
   "cell_type": "markdown",
   "id": "8927ad3f-d571-49b7-8c16-3e131de671aa",
   "metadata": {},
   "source": [
    "##### Učitavanje potrebnih biblioteka"
   ]
  },
  {
   "cell_type": "code",
   "execution_count": 1,
   "id": "719d6b00-a30c-4868-b9a6-14beab469ce2",
   "metadata": {},
   "outputs": [
    {
     "name": "stderr",
     "output_type": "stream",
     "text": [
      "2024-05-07 15:49:54.836611: I external/local_tsl/tsl/cuda/cudart_stub.cc:31] Could not find cuda drivers on your machine, GPU will not be used.\n",
      "2024-05-07 15:49:54.869120: E external/local_xla/xla/stream_executor/cuda/cuda_dnn.cc:9261] Unable to register cuDNN factory: Attempting to register factory for plugin cuDNN when one has already been registered\n",
      "2024-05-07 15:49:54.869148: E external/local_xla/xla/stream_executor/cuda/cuda_fft.cc:607] Unable to register cuFFT factory: Attempting to register factory for plugin cuFFT when one has already been registered\n",
      "2024-05-07 15:49:54.870051: E external/local_xla/xla/stream_executor/cuda/cuda_blas.cc:1515] Unable to register cuBLAS factory: Attempting to register factory for plugin cuBLAS when one has already been registered\n",
      "2024-05-07 15:49:54.874874: I external/local_tsl/tsl/cuda/cudart_stub.cc:31] Could not find cuda drivers on your machine, GPU will not be used.\n",
      "2024-05-07 15:49:54.875232: I tensorflow/core/platform/cpu_feature_guard.cc:182] This TensorFlow binary is optimized to use available CPU instructions in performance-critical operations.\n",
      "To enable the following instructions: AVX2 FMA, in other operations, rebuild TensorFlow with the appropriate compiler flags.\n",
      "2024-05-07 15:49:55.675424: W tensorflow/compiler/tf2tensorrt/utils/py_utils.cc:38] TF-TRT Warning: Could not find TensorRT\n",
      "/home/pepi/.local/lib/python3.10/site-packages/tqdm/auto.py:21: TqdmWarning: IProgress not found. Please update jupyter and ipywidgets. See https://ipywidgets.readthedocs.io/en/stable/user_install.html\n",
      "  from .autonotebook import tqdm as notebook_tqdm\n"
     ]
    }
   ],
   "source": [
    "import numpy as np\n",
    "import os\n",
    "import PIL\n",
    "import PIL.Image\n",
    "import tensorflow as tf\n",
    "import tensorflow_datasets as tfds\n",
    "import pathlib"
   ]
  },
  {
   "cell_type": "markdown",
   "id": "0bc38936-f7e4-49a5-aebc-6e7eae4d9cf5",
   "metadata": {},
   "source": [
    "##### Deklaracija korenog direktorijuma i klasa"
   ]
  },
  {
   "cell_type": "code",
   "execution_count": 2,
   "id": "17e51124-f7e8-44ff-a18d-18a3f890c208",
   "metadata": {},
   "outputs": [],
   "source": [
    "data_dir = pathlib.Path('planete')\n",
    "planete = ['Merkur', 'Venera', 'Zemlja', 'Mars', 'Jupiter', 'Saturn', 'Uran', 'Neptun']"
   ]
  },
  {
   "cell_type": "markdown",
   "id": "90b7268e-c460-4562-b7ca-60cdea9eee17",
   "metadata": {},
   "source": [
    "##### Parametri za konvolutivne mreže"
   ]
  },
  {
   "cell_type": "markdown",
   "id": "82453d7c-062f-498e-a40b-fb2dcd464cd5",
   "metadata": {},
   "source": [
    "Bitni parametri za treniranje modela su broj uzoraka po grupi (batch size) i veličina slike.  \n",
    "Broj uzoraka po grupi je broj slika koji će se koristiti u jednoj iteraciji treniranja modela. Veći batch_size može ubrzati proces učenja, ali i zauzeti više memorije, dok manji može pružiti stabilniji proces učenja.  \n",
    "Što se tiče veličine slike, konvolutivne mreže očekuju ulazne slike fiksne veličine, jer su dizajnirani da obrađuju matrice piksela određenih dimenzija. Postavljanjem visine i širine slike, definišu se dimenzije ulaznih slika koje će se koristiti za treniranje. Ove dimenzije moraju odgovarati ulaznom sloju modela."
   ]
  },
  {
   "cell_type": "code",
   "execution_count": 3,
   "id": "9cc98783-8472-4cdd-85de-e2b8cfba9c05",
   "metadata": {},
   "outputs": [],
   "source": [
    "batch_size = 32\n",
    "visina_slike = 256\n",
    "sirina_slike = 256"
   ]
  },
  {
   "cell_type": "markdown",
   "id": "1a6cb124-2e8d-457a-be67-447132666291",
   "metadata": {},
   "source": [
    "#### Učitavanje pomoću keras.utils biblioteke"
   ]
  },
  {
   "cell_type": "markdown",
   "id": "2fb5adb7-ee7b-4115-a759-99b2e69ade3e",
   "metadata": {},
   "source": [
    "Korišćenjem funkcije **tf.keras.utils.image_dataset_from_directory** neće se izvršiti nikakve izmene nad skupom podataka. Ona jednostavno učitava slike i kreira skup podataka koji se može koristiti za treniranje, testiranje i validaciju modela.  \n",
    "Jedini vid preprocesiranja je normalizacija vrednosti piksela - prebacivanje na opseg vrednosti [0,1] - što znači da će gradijenti koji se koriste za ažuriranje težina biti manji i stabilniji, što može dovesti do bržeg i stabilnijeg učenja.\n",
    "\n",
    "U tensorflow dokumentaciji (https://www.tensorflow.org/api_docs/python/tf/keras/utils/image_dataset_from_directory) se može naći argumenti koje prima ova funkcija, od kojih su bitniji:\n",
    "- directory - direktorijum u kom se nalaze slike\n",
    "- class_names - eksplicitna lista imena klasa. Ukoliko se ne navede, imena klasa odgovaraju imenima poddirektorijuma\n",
    "- batch_size - broj uzoraka po grupi\n",
    "- image_size - veličina slike\n",
    "- validation_split - mora biti jednak za trening i validacioni skup. Govori koji procenat podataka se čuva za validacioni skup\n",
    "- subset - podskup podataka koji vraća funkcija. Može uzimati vrednost 'training', 'validation' ili 'both'.\n",
    "- seed - opciono 'seme' za nasumično mešanje podataka. Koristi se da bi se osiguralo da se pri svakom pokretanju programa podaci mešaju na isti način. Mora biti isti za trening i validacioni skup.\n",
    "\n",
    "Može se primetiti da ovaj vid učitavanja podataka ne daje test skup, već samo validacioni.  \n",
    "Ovo se može prevazići tako što se izvrši dalja podela validacionog skupa - na primer, 10% za validaciju i 20% za test. "
   ]
  },
  {
   "cell_type": "code",
   "execution_count": 4,
   "id": "a6ab6cf8-169e-498e-a594-2f83bbfd346e",
   "metadata": {},
   "outputs": [
    {
     "name": "stdout",
     "output_type": "stream",
     "text": [
      "Found 1192 files belonging to 8 classes.\n",
      "Using 835 files for training.\n",
      "Found 1192 files belonging to 8 classes.\n",
      "Using 357 files for validation.\n"
     ]
    },
    {
     "name": "stderr",
     "output_type": "stream",
     "text": [
      "2024-05-07 15:49:59.634385: E external/local_xla/xla/stream_executor/cuda/cuda_driver.cc:274] failed call to cuInit: CUDA_ERROR_UNKNOWN: unknown error\n"
     ]
    }
   ],
   "source": [
    "# Skup podataka za treniranje\n",
    "train_ds = tf.keras.utils.image_dataset_from_directory(\n",
    "  data_dir,\n",
    "  validation_split=0.3,\n",
    "  subset=\"training\",\n",
    "  seed=123,\n",
    "  image_size=(visina_slike, sirina_slike),\n",
    "  batch_size=batch_size)\n",
    "\n",
    "# Skup podataka za validaciju\n",
    "val_ds = tf.keras.utils.image_dataset_from_directory(\n",
    "  data_dir,\n",
    "  validation_split=0.3,\n",
    "  subset=\"validation\",\n",
    "  seed=123,\n",
    "  image_size=(visina_slike, sirina_slike),\n",
    "  batch_size=batch_size)\n",
    "\n",
    "# Normalizacija\n",
    "norm = tf.keras.layers.Rescaling(1./255)\n",
    "\n"
   ]
  },
  {
   "cell_type": "markdown",
   "id": "9a9f15e3-7eec-4654-9076-87b2efcc4714",
   "metadata": {},
   "source": [
    "Sada treba odrediti koliko je gomila dostupno u validacionom skupu koristeći funkciju **tf.data.experimental.cardinality** i iskoristiti dve trećine za test skup pomoću funkcija take() i skip()"
   ]
  },
  {
   "cell_type": "code",
   "execution_count": 5,
   "id": "44b730e2-e056-4962-802b-3a44d92d2e14",
   "metadata": {},
   "outputs": [],
   "source": [
    "val_batches = tf.data.experimental.cardinality(val_ds)\n",
    "test_ds = val_ds.take((2*val_batches) // 3)\n",
    "val_ds = val_ds.skip((2*val_batches) // 3)"
   ]
  },
  {
   "cell_type": "markdown",
   "id": "1c42dfe0-fb98-4ff2-aecd-2f23facff374",
   "metadata": {},
   "source": [
    "Provera imena klasa preko polja class_names:"
   ]
  },
  {
   "cell_type": "code",
   "execution_count": 6,
   "id": "b57b4208-57a6-4189-b8c1-c607fdf112f3",
   "metadata": {},
   "outputs": [
    {
     "name": "stdout",
     "output_type": "stream",
     "text": [
      "Broj slika u test_ds: 8\n",
      "Broj slika u val_ds: 4\n"
     ]
    }
   ],
   "source": [
    "num_images_test = tf.data.experimental.cardinality(test_ds)\n",
    "num_images_val = tf.data.experimental.cardinality(val_ds)\n",
    "print(f\"Broj slika u test_ds: {num_images_test}\")\n",
    "print(f\"Broj slika u val_ds: {num_images_val}\")"
   ]
  },
  {
   "cell_type": "code",
   "execution_count": 7,
   "id": "98698a4c-8db7-4f14-b488-0ec6fd09696b",
   "metadata": {},
   "outputs": [
    {
     "name": "stdout",
     "output_type": "stream",
     "text": [
      "['Jupiter', 'Mars', 'Merkur', 'Neptun', 'Saturn', 'Uran', 'Venera', 'Zemlja']\n"
     ]
    }
   ],
   "source": [
    "imena_klasa = train_ds.class_names\n",
    "print(imena_klasa)"
   ]
  },
  {
   "cell_type": "markdown",
   "id": "eb8777fe-7049-4c10-8eda-3553a4b67be7",
   "metadata": {},
   "source": [
    "### Model za klasifikaciju"
   ]
  },
  {
   "cell_type": "markdown",
   "id": "1e255ad1-8252-448a-a127-3e8ed3a2814e",
   "metadata": {},
   "source": [
    "Model preuzet od: Emirhan Bulut **https://www.linkedin.com/in/artificialintelligencebulut/**"
   ]
  },
  {
   "cell_type": "markdown",
   "id": "d1791371-5a95-4639-96e5-9379112d50f5",
   "metadata": {},
   "source": [
    "Opis arhitekture modela:\n",
    "\n",
    "- Conv2D slojevi: Ovi slojevi predstavljaju konvolutivne slojeve koji koriste filtere za izdvajanje karakteristika iz slika. U ovom modelu, postoje tri Conv2D sloja sa 128, 256 i 512 filtera, redom. Svaki filter prolazi kroz ulaznu sliku koristeći određeni korak (*strides*) i izračunava konvoluciju.\n",
    "- BatchNormalization: Ovaj sloj se koristi za normalizaciju izlaza prethodnog sloja. To pomaže u stabilizaciji procesa učenja i ubrzava konvergenciju mreže.\n",
    "- SpatialDropout slojevi: Ovi slojevi primenjuju dropout na ulaznom sloju, gde se nasumično određeni neuroni isključuju tokom treninga sa određenom verovatnoćom (u ovom slučaju 20%). Ovo pomaže u prevenciji prenaučenosti i poboljšava generalizaciju modela.\n",
    "- MaxPooling2D slojevi: Ovi slojevi primenjuju max pooling operaciju na izlazima prethodnih slojeva kako bi se smanjila dimenzionalnost i izdvojile ključne osobine iz slike.\n",
    "- Flatten sloj: Ovaj sloj se koristi za ravnanje (*flatten*) izlaza iz poslednjeg sloja konvolucije u vektor koji će biti ulaz u potpuno povezane (*dense*) slojeve.\n",
    "- Dense slojevi: Ovi slojevi su potpuno povezani i koriste se za klasifikaciju izlaza iz prethodnih slojeva. U ovom modelu, postoji jedan Dense sloj sa 128 neurona i jedan sa 11 neurona (jedan za svaku klasu), koji koristi softmax aktivaciju za generisanje verovatnoća svake klase."
   ]
  },
  {
   "cell_type": "code",
   "execution_count": 8,
   "id": "4d8486ea-2ab3-4005-b660-bdd91f94ffee",
   "metadata": {},
   "outputs": [],
   "source": [
    "from tensorflow.keras.models import Sequential\n",
    "from tensorflow.keras.layers import Conv2D, MaxPooling2D, Flatten, Dense, BatchNormalization, SpatialDropout2D\n",
    "\n",
    "model = Sequential([\n",
    "    Conv2D(128, (2,2), strides=(2,2), padding='same', activation='relu', use_bias=True, input_shape=(256, 256, 3)),\n",
    "    BatchNormalization(),\n",
    "    SpatialDropout2D(0.2),\n",
    "    MaxPooling2D(pool_size=(2, 2), strides=(2,2), padding='same'),\n",
    "    Conv2D(256, (2,2), strides=(2,2), padding='same', activation='relu', use_bias=True),\n",
    "    SpatialDropout2D(0.2),\n",
    "    MaxPooling2D(pool_size=(2, 2), strides=(2,2), padding='same'),\n",
    "    Conv2D(512, (2,2), strides=(2,2), padding='same', activation='relu', use_bias=True),\n",
    "    SpatialDropout2D(0.2),\n",
    "    MaxPooling2D(pool_size=(2, 2), strides=(2,2), padding='same'),\n",
    "    Flatten(),\n",
    "    Dense(128, activation='relu'),\n",
    "    Dense(11, activation='softmax')\n",
    "])\n",
    "\n",
    "model.compile(optimizer='adam', loss='sparse_categorical_crossentropy', metrics=['accuracy'])\n"
   ]
  },
  {
   "cell_type": "markdown",
   "id": "e011e5ae-e7dc-43dd-bb08-5761b075df4b",
   "metadata": {},
   "source": [
    "*Sparse categorical crossentropy* je funkcija gubitka koja se koristi za višeklasnu klasifikaciju kada su oznake ciljne klase predstavljene kao celobrojne vrednosti (npr. 0, 1, 2, ...) umesto one-hot kodiranja. Računa gubitak između predviđenih verovatnoća klasa i stvarnih oznaka ciljnih klasa, uzimajući u obzir samo indeks ciljne klase za svaki podatak."
   ]
  },
  {
   "cell_type": "markdown",
   "id": "cf304359-e18f-4958-ae20-3af9a586b058",
   "metadata": {},
   "source": [
    "### Treniranje i evaluacija modela"
   ]
  },
  {
   "cell_type": "markdown",
   "id": "5746cf75-5ab9-4195-8993-0f9178b7c615",
   "metadata": {},
   "source": [
    "U ovom primeru, EarlyStopping će pratiti gubitak (*loss*) na validacionom skupu (*monitor='val_loss'*) i zaustaviti trening ako se gubitak ne smanji tokom 3 uzastopne epohe (*patience=3*). Parametar *restore_best_weights=True* će vratiti težine modela na one koje su dale najbolje rezultate na validacionom skupu."
   ]
  },
  {
   "cell_type": "code",
   "execution_count": 9,
   "id": "dae30783-9237-4507-9160-d76a1a86522a",
   "metadata": {},
   "outputs": [
    {
     "name": "stdout",
     "output_type": "stream",
     "text": [
      "Epoch 1/10\n"
     ]
    },
    {
     "name": "stderr",
     "output_type": "stream",
     "text": [
      "2024-05-07 15:50:01.357968: W external/local_tsl/tsl/framework/cpu_allocator_impl.cc:83] Allocation of 268435456 exceeds 10% of free system memory.\n",
      "2024-05-07 15:50:01.608103: W external/local_tsl/tsl/framework/cpu_allocator_impl.cc:83] Allocation of 268435456 exceeds 10% of free system memory.\n",
      "2024-05-07 15:50:01.810626: W external/local_tsl/tsl/framework/cpu_allocator_impl.cc:83] Allocation of 268435456 exceeds 10% of free system memory.\n",
      "2024-05-07 15:50:02.058454: W external/local_tsl/tsl/framework/cpu_allocator_impl.cc:83] Allocation of 67108864 exceeds 10% of free system memory.\n",
      "2024-05-07 15:50:02.353922: W external/local_tsl/tsl/framework/cpu_allocator_impl.cc:83] Allocation of 67108864 exceeds 10% of free system memory.\n"
     ]
    },
    {
     "name": "stdout",
     "output_type": "stream",
     "text": [
      "27/27 [==============================] - 38s 1s/step - loss: 1.1779 - accuracy: 0.7784 - val_loss: 0.5632 - val_accuracy: 0.7723\n",
      "Epoch 2/10\n",
      "27/27 [==============================] - 37s 1s/step - loss: 0.0590 - accuracy: 0.9820 - val_loss: 0.1422 - val_accuracy: 0.9604\n",
      "Epoch 3/10\n",
      "27/27 [==============================] - 37s 1s/step - loss: 0.0808 - accuracy: 0.9808 - val_loss: 0.2334 - val_accuracy: 0.8911\n",
      "Epoch 4/10\n",
      "27/27 [==============================] - 37s 1s/step - loss: 0.0034 - accuracy: 1.0000 - val_loss: 0.1378 - val_accuracy: 0.9802\n",
      "Epoch 5/10\n",
      "27/27 [==============================] - 36s 1s/step - loss: 0.0031 - accuracy: 0.9988 - val_loss: 0.1210 - val_accuracy: 0.9505\n",
      "Epoch 6/10\n",
      "27/27 [==============================] - 37s 1s/step - loss: 0.0037 - accuracy: 1.0000 - val_loss: 0.0381 - val_accuracy: 1.0000\n",
      "Epoch 7/10\n",
      "27/27 [==============================] - 38s 1s/step - loss: 4.0095e-04 - accuracy: 1.0000 - val_loss: 0.0221 - val_accuracy: 1.0000\n",
      "Epoch 8/10\n",
      "27/27 [==============================] - 37s 1s/step - loss: 6.9314e-04 - accuracy: 1.0000 - val_loss: 0.0213 - val_accuracy: 1.0000\n",
      "Epoch 9/10\n",
      "27/27 [==============================] - 37s 1s/step - loss: 3.2047e-04 - accuracy: 1.0000 - val_loss: 0.0118 - val_accuracy: 1.0000\n",
      "Epoch 10/10\n",
      "27/27 [==============================] - 38s 1s/step - loss: 0.0012 - accuracy: 1.0000 - val_loss: 0.1308 - val_accuracy: 0.9604\n"
     ]
    },
    {
     "data": {
      "image/png": "[encoded data removed]",
      "text/plain": [
       "<Figure size 640x480 with 1 Axes>"
      ]
     },
     "metadata": {},
     "output_type": "display_data"
    }
   ],
   "source": [
    "import matplotlib.pyplot as plt\n",
    "from tensorflow.keras.callbacks import EarlyStopping\n",
    "\n",
    "# Definisanje EarlyStopping callback-a\n",
    "early_stopping = EarlyStopping(monitor='val_loss', patience=3, restore_best_weights=True)\n",
    "\n",
    "# Treniranje modela sa EarlyStopping callback-om\n",
    "history = model.fit(train_ds,validation_data=val_ds, epochs=10, callbacks=[early_stopping])\n",
    "\n",
    "# Prikazivanje grafika tačnosti\n",
    "plt.plot(history.history['accuracy'], label='Preciznost - trening')\n",
    "plt.plot(history.history['val_accuracy'], label='Preciznost - validacija')\n",
    "plt.xlabel('Epoha')\n",
    "plt.ylabel('Preciznost')\n",
    "plt.legend()\n",
    "plt.show()\n",
    "\n"
   ]
  },
  {
   "cell_type": "markdown",
   "id": "8b60c310-eb20-4083-aa45-5ebc6155728f",
   "metadata": {},
   "source": [
    "Model pokazuje izuzetne performanse."
   ]
  },
  {
   "cell_type": "markdown",
   "id": "3f315917-caf1-4b47-ae67-d316a95f5b0b",
   "metadata": {},
   "source": [
    "### Upotreba modela u klasifikaciji planeta"
   ]
  },
  {
   "cell_type": "code",
   "execution_count": 10,
   "id": "31cf69ae-d009-4faa-9e08-ba15532f75b2",
   "metadata": {},
   "outputs": [
    {
     "name": "stdout",
     "output_type": "stream",
     "text": [
      "8/8 [==============================] - 2s 246ms/step\n"
     ]
    },
    {
     "data": {
      "image/png": "[encoded data removed]",
      "text/plain": [
       "<Figure size 1000x700 with 2 Axes>"
      ]
     },
     "metadata": {},
     "output_type": "display_data"
    },
    {
     "name": "stdout",
     "output_type": "stream",
     "text": [
      "8/8 [==============================] - 2s 243ms/step - loss: 0.2126 - accuracy: 0.9219\n",
      "Preciznost na test skupu: 0.921875\n",
      "Gubitak na test skupu: 0.21261969208717346\n"
     ]
    }
   ],
   "source": [
    "import seaborn as sns\n",
    "import matplotlib.pyplot as plt\n",
    "import pandas as pd\n",
    "from sklearn.metrics import confusion_matrix\n",
    "\n",
    "# Predviđanja modela za test skup\n",
    "predikcije = np.argmax(model.predict(test_ds), axis=-1)\n",
    "\n",
    "# Stvarne vrednosti za test skup\n",
    "stvarno = np.concatenate([y for x, y in test_ds], axis=0)\n",
    "\n",
    "# Izračunavanje matrice konfuzije\n",
    "matrica_konfuzije = confusion_matrix(stvarno, predikcije)\n",
    "\n",
    "# Definisanje imena klasa\n",
    "imena_klasa = ['Jupiter', 'Mars', 'Merkur', 'Neptun', 'Saturn', 'Uran', 'Venera', 'Zemlja']\n",
    "\n",
    "# Kreiranje DataFrame-a za matricu konfuzije\n",
    "matrica_df = pd.DataFrame(matrica_konfuzije, index=imena_klasa, columns=imena_klasa)\n",
    "\n",
    "# Prikaz matrice konfuzije \n",
    "plt.figure(figsize=(10, 7))\n",
    "sns.heatmap(matrica_df, annot=True, fmt='d', cmap='Blues')\n",
    "plt.xlabel('Predviđena klasa')\n",
    "plt.ylabel('Stvarna klasa')\n",
    "plt.title('Matrica konfuzije')\n",
    "plt.show()\n",
    "\n",
    "\n",
    "# Evaluacija modela na test skupu\n",
    "gubitak, preciznost = model.evaluate(test_ds)\n",
    "print(\"Preciznost na test skupu:\", preciznost)\n",
    "print(\"Gubitak na test skupu:\", gubitak)"
   ]
  },
  {
   "cell_type": "markdown",
   "id": "3d6f0250-7aeb-47b4-9176-6f3336a16f74",
   "metadata": {},
   "source": [
    "### Predikcije modela na test skupu"
   ]
  },
  {
   "cell_type": "code",
   "execution_count": 17,
   "id": "72959750-1811-430d-9393-8ba971ec6172",
   "metadata": {},
   "outputs": [
    {
     "name": "stdout",
     "output_type": "stream",
     "text": [
      "[[[[4.      4.      4.     ]\n",
      "   [2.      2.      2.     ]\n",
      "   [2.      2.      2.     ]\n",
      "   ...\n",
      "   [0.      0.      0.     ]\n",
      "   [0.      0.      0.     ]\n",
      "   [0.      0.      0.     ]]\n",
      "\n",
      "  [[3.3125  3.3125  3.3125 ]\n",
      "   [1.65625 1.65625 1.65625]\n",
      "   [1.3125  1.3125  1.3125 ]\n",
      "   ...\n",
      "   [0.      0.      0.     ]\n",
      "   [0.      0.      0.     ]\n",
      "   [0.      0.      0.     ]]\n",
      "\n",
      "  [[2.1875  2.1875  2.1875 ]\n",
      "   [1.09375 1.09375 1.09375]\n",
      "   [0.1875  0.1875  0.1875 ]\n",
      "   ...\n",
      "   [0.      0.      0.     ]\n",
      "   [0.      0.      0.     ]\n",
      "   [0.      0.      0.     ]]\n",
      "\n",
      "  ...\n",
      "\n",
      "  [[2.1875  2.1875  2.1875 ]\n",
      "   [1.09375 1.09375 1.09375]\n",
      "   [0.1875  0.1875  0.1875 ]\n",
      "   ...\n",
      "   [0.      0.      0.     ]\n",
      "   [0.      0.      0.     ]\n",
      "   [0.      0.      0.     ]]\n",
      "\n",
      "  [[3.3125  3.3125  3.3125 ]\n",
      "   [1.65625 1.65625 1.65625]\n",
      "   [1.3125  1.3125  1.3125 ]\n",
      "   ...\n",
      "   [0.      0.      0.     ]\n",
      "   [0.      0.      0.     ]\n",
      "   [0.      0.      0.     ]]\n",
      "\n",
      "  [[4.      4.      4.     ]\n",
      "   [2.      2.      2.     ]\n",
      "   [2.      2.      2.     ]\n",
      "   ...\n",
      "   [0.      0.      0.     ]\n",
      "   [0.      0.      0.     ]\n",
      "   [0.      0.      0.     ]]]\n",
      "\n",
      "\n",
      " [[[4.      4.      4.     ]\n",
      "   [2.      2.      2.     ]\n",
      "   [0.      0.      0.     ]\n",
      "   ...\n",
      "   [0.      0.      0.     ]\n",
      "   [0.      0.      0.     ]\n",
      "   [0.      0.      0.     ]]\n",
      "\n",
      "  [[2.96875 2.96875 2.96875]\n",
      "   [1.3125  1.3125  1.3125 ]\n",
      "   [0.      0.      0.     ]\n",
      "   ...\n",
      "   [0.      0.      0.     ]\n",
      "   [0.      0.      0.     ]\n",
      "   [0.      0.      0.     ]]\n",
      "\n",
      "  [[1.28125 1.28125 1.28125]\n",
      "   [0.1875  0.1875  0.1875 ]\n",
      "   [0.      0.      0.     ]\n",
      "   ...\n",
      "   [0.      0.      0.     ]\n",
      "   [0.      0.      0.     ]\n",
      "   [0.      0.      0.     ]]\n",
      "\n",
      "  ...\n",
      "\n",
      "  [[1.1875  1.1875  1.1875 ]\n",
      "   [1.09375 1.09375 1.09375]\n",
      "   [0.1875  0.1875  0.1875 ]\n",
      "   ...\n",
      "   [0.      0.      0.     ]\n",
      "   [0.      0.      0.     ]\n",
      "   [0.      0.      0.     ]]\n",
      "\n",
      "  [[2.3125  2.3125  2.3125 ]\n",
      "   [1.65625 1.65625 1.65625]\n",
      "   [1.3125  1.3125  1.3125 ]\n",
      "   ...\n",
      "   [0.      0.      0.     ]\n",
      "   [0.      0.      0.     ]\n",
      "   [0.      0.      0.     ]]\n",
      "\n",
      "  [[3.      3.      3.     ]\n",
      "   [2.      2.      2.     ]\n",
      "   [2.      2.      2.     ]\n",
      "   ...\n",
      "   [0.      0.      0.     ]\n",
      "   [0.      0.      0.     ]\n",
      "   [0.      0.      0.     ]]]\n",
      "\n",
      "\n",
      " [[[4.      4.      4.     ]\n",
      "   [3.      3.      3.     ]\n",
      "   [2.      2.      2.     ]\n",
      "   ...\n",
      "   [0.      0.      0.     ]\n",
      "   [0.      0.      0.     ]\n",
      "   [0.      0.      0.     ]]\n",
      "\n",
      "  [[3.3125  3.3125  3.3125 ]\n",
      "   [2.3125  2.3125  2.3125 ]\n",
      "   [1.3125  1.3125  1.3125 ]\n",
      "   ...\n",
      "   [0.      0.      0.     ]\n",
      "   [0.      0.      0.     ]\n",
      "   [0.      0.      0.     ]]\n",
      "\n",
      "  [[2.1875  2.1875  2.1875 ]\n",
      "   [1.1875  1.1875  1.1875 ]\n",
      "   [0.1875  0.1875  0.1875 ]\n",
      "   ...\n",
      "   [0.      0.      0.     ]\n",
      "   [0.      0.      0.     ]\n",
      "   [0.      0.      0.     ]]\n",
      "\n",
      "  ...\n",
      "\n",
      "  [[2.1875  2.1875  2.1875 ]\n",
      "   [1.09375 1.09375 1.09375]\n",
      "   [0.1875  0.1875  0.1875 ]\n",
      "   ...\n",
      "   [0.      0.      0.     ]\n",
      "   [0.      0.      0.     ]\n",
      "   [0.      0.      0.     ]]\n",
      "\n",
      "  [[3.3125  3.3125  3.3125 ]\n",
      "   [1.65625 1.65625 1.65625]\n",
      "   [1.3125  1.3125  1.3125 ]\n",
      "   ...\n",
      "   [0.      0.      0.     ]\n",
      "   [0.      0.      0.     ]\n",
      "   [0.      0.      0.     ]]\n",
      "\n",
      "  [[4.      4.      4.     ]\n",
      "   [2.      2.      2.     ]\n",
      "   [2.      2.      2.     ]\n",
      "   ...\n",
      "   [0.      0.      0.     ]\n",
      "   [0.      0.      0.     ]\n",
      "   [0.      0.      0.     ]]]\n",
      "\n",
      "\n",
      " ...\n",
      "\n",
      "\n",
      " [[[4.      4.      4.     ]\n",
      "   [2.      2.      2.     ]\n",
      "   [2.      2.      2.     ]\n",
      "   ...\n",
      "   [0.      0.      0.     ]\n",
      "   [0.      0.      0.     ]\n",
      "   [0.      0.      0.     ]]\n",
      "\n",
      "  [[3.3125  3.3125  3.3125 ]\n",
      "   [1.65625 1.65625 1.65625]\n",
      "   [1.3125  1.3125  1.3125 ]\n",
      "   ...\n",
      "   [0.      0.      0.     ]\n",
      "   [0.      0.      0.     ]\n",
      "   [0.      0.      0.     ]]\n",
      "\n",
      "  [[2.1875  2.1875  2.1875 ]\n",
      "   [1.09375 1.09375 1.09375]\n",
      "   [0.1875  0.1875  0.1875 ]\n",
      "   ...\n",
      "   [0.      0.      0.     ]\n",
      "   [0.      0.      0.     ]\n",
      "   [0.      0.      0.     ]]\n",
      "\n",
      "  ...\n",
      "\n",
      "  [[2.1875  2.1875  2.1875 ]\n",
      "   [1.09375 1.09375 1.09375]\n",
      "   [0.1875  0.1875  0.1875 ]\n",
      "   ...\n",
      "   [0.      0.      0.     ]\n",
      "   [0.      0.      0.     ]\n",
      "   [0.      0.      0.     ]]\n",
      "\n",
      "  [[3.3125  3.3125  3.3125 ]\n",
      "   [1.65625 1.65625 1.65625]\n",
      "   [1.3125  1.3125  1.3125 ]\n",
      "   ...\n",
      "   [0.      0.      0.     ]\n",
      "   [0.      0.      0.     ]\n",
      "   [0.      0.      0.     ]]\n",
      "\n",
      "  [[4.      4.      4.     ]\n",
      "   [2.      2.      2.     ]\n",
      "   [2.      2.      2.     ]\n",
      "   ...\n",
      "   [0.      0.      0.     ]\n",
      "   [0.      0.      0.     ]\n",
      "   [0.      0.      0.     ]]]\n",
      "\n",
      "\n",
      " [[[3.      3.      3.     ]\n",
      "   [2.      2.      2.     ]\n",
      "   [2.      2.      2.     ]\n",
      "   ...\n",
      "   [0.      0.      0.     ]\n",
      "   [0.      0.      0.     ]\n",
      "   [0.      0.      0.     ]]\n",
      "\n",
      "  [[2.3125  2.3125  2.3125 ]\n",
      "   [1.65625 1.65625 1.65625]\n",
      "   [1.3125  1.3125  1.3125 ]\n",
      "   ...\n",
      "   [0.      0.      0.     ]\n",
      "   [0.      0.      0.     ]\n",
      "   [0.      0.      0.     ]]\n",
      "\n",
      "  [[1.1875  1.1875  1.1875 ]\n",
      "   [1.09375 1.09375 1.09375]\n",
      "   [0.1875  0.1875  0.1875 ]\n",
      "   ...\n",
      "   [0.      0.      0.     ]\n",
      "   [0.      0.      0.     ]\n",
      "   [0.      0.      0.     ]]\n",
      "\n",
      "  ...\n",
      "\n",
      "  [[1.28125 1.28125 1.28125]\n",
      "   [0.1875  0.1875  0.1875 ]\n",
      "   [0.      0.      0.     ]\n",
      "   ...\n",
      "   [0.      0.      0.     ]\n",
      "   [0.      0.      0.     ]\n",
      "   [0.      0.      0.     ]]\n",
      "\n",
      "  [[2.96875 2.96875 2.96875]\n",
      "   [1.3125  1.3125  1.3125 ]\n",
      "   [0.      0.      0.     ]\n",
      "   ...\n",
      "   [0.      0.      0.     ]\n",
      "   [0.      0.      0.     ]\n",
      "   [0.      0.      0.     ]]\n",
      "\n",
      "  [[4.      4.      4.     ]\n",
      "   [2.      2.      2.     ]\n",
      "   [0.      0.      0.     ]\n",
      "   ...\n",
      "   [0.      0.      0.     ]\n",
      "   [0.      0.      0.     ]\n",
      "   [0.      0.      0.     ]]]\n",
      "\n",
      "\n",
      " [[[4.      4.      4.     ]\n",
      "   [2.      2.      2.     ]\n",
      "   [2.      2.      2.     ]\n",
      "   ...\n",
      "   [0.      0.      0.     ]\n",
      "   [0.      0.      0.     ]\n",
      "   [0.      0.      0.     ]]\n",
      "\n",
      "  [[3.3125  3.3125  3.3125 ]\n",
      "   [1.65625 1.65625 1.65625]\n",
      "   [1.3125  1.3125  1.3125 ]\n",
      "   ...\n",
      "   [0.      0.      0.     ]\n",
      "   [0.      0.      0.     ]\n",
      "   [0.      0.      0.     ]]\n",
      "\n",
      "  [[2.1875  2.1875  2.1875 ]\n",
      "   [1.09375 1.09375 1.09375]\n",
      "   [0.1875  0.1875  0.1875 ]\n",
      "   ...\n",
      "   [0.      0.      0.     ]\n",
      "   [0.      0.      0.     ]\n",
      "   [0.      0.      0.     ]]\n",
      "\n",
      "  ...\n",
      "\n",
      "  [[2.1875  2.1875  2.1875 ]\n",
      "   [1.09375 1.09375 1.09375]\n",
      "   [0.1875  0.1875  0.1875 ]\n",
      "   ...\n",
      "   [0.      0.      0.     ]\n",
      "   [0.      0.      0.     ]\n",
      "   [0.      0.      0.     ]]\n",
      "\n",
      "  [[3.3125  3.3125  3.3125 ]\n",
      "   [1.65625 1.65625 1.65625]\n",
      "   [1.3125  1.3125  1.3125 ]\n",
      "   ...\n",
      "   [0.      0.      0.     ]\n",
      "   [0.      0.      0.     ]\n",
      "   [0.      0.      0.     ]]\n",
      "\n",
      "  [[4.      4.      4.     ]\n",
      "   [2.      2.      2.     ]\n",
      "   [2.      2.      2.     ]\n",
      "   ...\n",
      "   [0.      0.      0.     ]\n",
      "   [0.      0.      0.     ]\n",
      "   [0.      0.      0.     ]]]]\n"
     ]
    },
    {
     "ename": "NameError",
     "evalue": "name 'putanja' is not defined",
     "output_type": "error",
     "traceback": [
      "\u001b[0;31m---------------------------------------------------------------------------\u001b[0m",
      "\u001b[0;31mNameError\u001b[0m                                 Traceback (most recent call last)",
      "Cell \u001b[0;32mIn[17], line 4\u001b[0m\n\u001b[1;32m      2\u001b[0m \u001b[38;5;28;01mfor\u001b[39;00m slika, _ \u001b[38;5;129;01min\u001b[39;00m test_ds\u001b[38;5;241m.\u001b[39mas_numpy_iterator():\n\u001b[1;32m      3\u001b[0m     \u001b[38;5;28mprint\u001b[39m(slika)\n\u001b[0;32m----> 4\u001b[0m     putanje_slika\u001b[38;5;241m.\u001b[39mappend(\u001b[43mputanja\u001b[49m)\n",
      "\u001b[0;31mNameError\u001b[0m: name 'putanja' is not defined"
     ]
    }
   ],
   "source": [
    "import os\n",
    "\n",
    "direktorijum = \"planete\"\n",
    "\n",
    "putanje_slika = []\n",
    "for koren, direktorijumi, fajlovi in os.walk(direktorijum):\n",
    "    for fajl in fajlovi:\n",
    "        if fajl.endswith(\".jpg\"):  # ili bilo koji drugi format slika koji koristite\n",
    "            putanja = os.path.join(koren, fajl)\n",
    "            putanje_slika.append(putanja)\n",
    "\n",
    "print(putanje_slika)\n"
   ]
  },
  {
   "cell_type": "code",
   "execution_count": 12,
   "id": "9222b0a0-8f92-4520-8bbc-4e361af78bbb",
   "metadata": {},
   "outputs": [
    {
     "ename": "NameError",
     "evalue": "name 'putanje' is not defined",
     "output_type": "error",
     "traceback": [
      "\u001b[0;31m---------------------------------------------------------------------------\u001b[0m",
      "\u001b[0;31mNameError\u001b[0m                                 Traceback (most recent call last)",
      "Cell \u001b[0;32mIn[12], line 5\u001b[0m\n\u001b[1;32m      3\u001b[0m \u001b[38;5;66;03m# Prikazivanje nasumično odabranih slika iz test skupa\u001b[39;00m\n\u001b[1;32m      4\u001b[0m plt\u001b[38;5;241m.\u001b[39mfigure(figsize\u001b[38;5;241m=\u001b[39m(\u001b[38;5;241m15\u001b[39m, \u001b[38;5;241m15\u001b[39m))\n\u001b[0;32m----> 5\u001b[0m \u001b[38;5;28;01mfor\u001b[39;00m i, putanja \u001b[38;5;129;01min\u001b[39;00m \u001b[38;5;28menumerate\u001b[39m(\u001b[43mputanje\u001b[49m):\n\u001b[1;32m      6\u001b[0m     \n\u001b[1;32m      7\u001b[0m     \u001b[38;5;66;03m# Učitavanje slike bez promene veličine\u001b[39;00m\n\u001b[1;32m      8\u001b[0m     slika \u001b[38;5;241m=\u001b[39m Image\u001b[38;5;241m.\u001b[39mopen(putanja)\n\u001b[1;32m     10\u001b[0m     \u001b[38;5;66;03m# Normalizacija slike \u001b[39;00m\n",
      "\u001b[0;31mNameError\u001b[0m: name 'putanje' is not defined"
     ]
    },
    {
     "data": {
      "text/plain": [
       "<Figure size 1500x1500 with 0 Axes>"
      ]
     },
     "metadata": {},
     "output_type": "display_data"
    }
   ],
   "source": [
    "from PIL import Image\n",
    "\n",
    "# Prikazivanje nasumično odabranih slika iz test skupa\n",
    "plt.figure(figsize=(15, 15))\n",
    "for i, putanja in enumerate(putanje):\n",
    "    \n",
    "    # Učitavanje slike bez promene veličine\n",
    "    slika = Image.open(putanja)\n",
    "    \n",
    "    # Normalizacija slike \n",
    "    x = np.array(slika)\n",
    "    x = np.expand_dims(x, axis=0)\n",
    "    x = x / 255.0  # Normalizacija piksela na [0, 1] opseg\n",
    "    \n",
    "    # Predviđanje klase\n",
    "    predikcija = model.predict(x)\n",
    "    \n",
    "    # Pretvaranje predikcije u čitljiv oblik\n",
    "    klasa_predikcije = np.argmax(predikcija)\n",
    "    \n",
    "    # Dobijanje oznake klase iz putanje\n",
    "    klasa = putanja.split('/')[-2]  # Pretpostavka da je klasa pretposlednji deo putanje\n",
    "    \n",
    "    # Prikaz slike\n",
    "    plt.subplot(3, 3, i + 1)\n",
    "    plt.imshow(slika)\n",
    "    plt.title(f\"Stvarna klasa: {klasa}\\nPredviđena klasa: {klasa_predikcije}\")\n",
    "    plt.axis('off')\n",
    "\n",
    "plt.tight_layout()\n",
    "plt.show()\n",
    "\n",
    "\n",
    "    "
   ]
  },
  {
   "cell_type": "markdown",
   "id": "cd734800-4fb6-46e5-8fe3-087a20c82de1",
   "metadata": {},
   "source": [
    "# Analiza modela na skupu planeta, bez veštački generisanih slika"
   ]
  },
  {
   "cell_type": "markdown",
   "id": "a0db0de2-9a21-48d8-9d92-245240cee782",
   "metadata": {},
   "source": [
    "- U toku treniranja, model se pokazao izuzetno dobro.\n",
    "- Na validacionom skupu je takođe veoma brzo, već posle 10 epoha, dostigao apsolutnu preciznost, uz zanemarljiv gubitak\n",
    "- Performanse modela na test skupu, međutim, daleko su lošije, sa preciznošću od oko 85%, što je očigledan znak da se model preprilagodio\n",
    "\n",
    "Može se pokušati da se prevaziđe u drugom delu ovog projekta - proširenjem skupa slika."
   ]
  },
  {
   "cell_type": "markdown",
   "id": "981e80e9-bc79-4a54-970a-cce880da74df",
   "metadata": {},
   "source": [
    "# ---------------------------------------------------------------------------------------------------"
   ]
  },
  {
   "cell_type": "markdown",
   "id": "02a4ff22-12cd-4b29-9de4-8de9f6a9f5ea",
   "metadata": {},
   "source": [
    "## Sateliti"
   ]
  },
  {
   "cell_type": "markdown",
   "id": "57762097-1a5d-4971-aecd-43d157ad9a3d",
   "metadata": {},
   "source": [
    "Baza slika korišćena za treniranje i evaluaciju modela za klasifikaciju satelita je ručno napravljena skidanjem slika sa zvaničnog Nasinog sajta i preko Google Images.  \n",
    "Pojedini sateliti, na primer, Uranovi i Neptunovi sateliti, su toliko daleko od Zemlje da nisu postojale brojne ekspedicije koje su ih istraživale, i malobrojne dostupne slike su mutne i neupotrebljive za analizu, pa nisu uzete u razmatranje.  \n",
    "Baza se sastoji iz sledećih satelita:\n",
    "\n",
    "Zemlja\n",
    " - Mesec  \n",
    "\n",
    "Mars\n",
    " - Fobos (*Phobos*)\n",
    " - Deimos\n",
    "\n",
    "Jupiter\n",
    "  - Kalisto (*Callisto*)\n",
    "  - Evropa  (*Europa*)\n",
    "  - Ganimed (*Ganymede*)\n",
    "  - Io\n",
    "\n",
    "Saturn\n",
    "  - Enkelad (*Enceladus*)\n",
    "  - Mimant (*Mimas*)\n",
    "  - Reja (*Rhea*)\n",
    "  - Titan\n"
   ]
  },
  {
   "cell_type": "markdown",
   "id": "a7ca3299-0c14-4a54-aba1-687cc7d96f9c",
   "metadata": {},
   "source": [
    "Isti postupak će biti primenjen i u ovom delu projekta, sa manje detaljisanja."
   ]
  },
  {
   "cell_type": "code",
   "execution_count": null,
   "id": "80536494-4c06-43ba-b45c-905df10d9e8f",
   "metadata": {},
   "outputs": [],
   "source": [
    "def planeta_kojoj_pripada(satelit):\n",
    "    if satelit == 'Mesec':\n",
    "        return 'Zemlja'\n",
    "    elif satelit == 'Fobos' or satelit == 'Deimos':\n",
    "        return 'Mars'\n",
    "    elif satelit == 'Kalisto' or satelit == 'Evropa' or satelit == 'Ganimed' or satelit == 'Io':\n",
    "        return 'Jupiter'\n",
    "    else:\n",
    "        return 'Saturn'\n"
   ]
  },
  {
   "cell_type": "markdown",
   "id": "f05b1c7f-cf23-4e31-a06d-21289d7af303",
   "metadata": {},
   "source": [
    "### Učitavanje baze"
   ]
  },
  {
   "cell_type": "code",
   "execution_count": null,
   "id": "ddc61447-1bd2-45d8-8133-5938083c21bf",
   "metadata": {},
   "outputs": [],
   "source": [
    "from keras.preprocessing import image\n",
    "from keras.applications.mobilenet_v2 import preprocess_input\n",
    "\n",
    "\n",
    "data_dir = 'sateliti'\n",
    "\n",
    "maticne_planete = ['Jupiter','Mars','Saturn','Zemlja']\n",
    "\n",
    "# Lista satelita\n",
    "sateliti = ['Evropa', 'Ganimed', 'Io', 'Kalisto', 'Deimos', 'Fobos', 'Enkelad','Mimant','Reja','Titan', 'Mesec']\n",
    "\n",
    "slike_niz = []  # Bice korisceno za treniranje i evaluaciju modela\n",
    "slike_putanje = [] # Bice korisceno za prikaz slika iz test skupa\n",
    "oznake = []\n",
    "j = 0;\n",
    "\n",
    "# Popunjavanje slika iz svakog poddirektorijuma\n",
    "# Svaka kategorija ce biti numerička, označena brojevima 0-10\n",
    "for i, planeta in enumerate(maticne_planete):\n",
    "    planeta_dir = os.path.join(data_dir, planeta)\n",
    "    lista_satelita = os.listdir(planeta_dir)\n",
    "    for satelit in lista_satelita:\n",
    "        satelit_dir = os.path.join(planeta_dir,satelit)\n",
    "        slike = os.listdir(satelit_dir)\n",
    "        for slika in slike:\n",
    "            slika_putanja = os.path.join(satelit_dir, slika)\n",
    "            img = image.load_img(slika_putanja, target_size=(256,256))\n",
    "            img_array = image.img_to_array(img)\n",
    "            img_array = preprocess_input(img_array)\n",
    "            slike_niz.append(img_array)\n",
    "            slike_putanje.append(slika_putanja)\n",
    "            oznake.append(j)\n",
    "        j = j+1\n",
    "        \n",
    "        \n"
   ]
  },
  {
   "cell_type": "markdown",
   "id": "5d1e231c-0882-45e8-9f2f-778e54b52432",
   "metadata": {},
   "source": [
    "### Podela na test, trening i validacioni skup"
   ]
  },
  {
   "cell_type": "code",
   "execution_count": null,
   "id": "4d574329-25af-476b-91ed-73329d56a1e0",
   "metadata": {},
   "outputs": [],
   "source": [
    "from sklearn.model_selection import train_test_split\n",
    "\n",
    "# Statifikovana podela na test i trening skup, 70% trening, 30% test\n",
    "X_train, X_test, y_train, y_test = train_test_split(slike_niz, oznake, test_size=0.3, stratify=oznake, random_state=42)\n",
    "# Podela ostatak dataset-a na validacioni (10%) i test (20%) skup\n",
    "X_val, X_test, y_val, y_test = train_test_split(X_test, y_test, test_size=2/3, stratify=y_test, random_state=42)\n"
   ]
  },
  {
   "cell_type": "code",
   "execution_count": null,
   "id": "6a5aecbe-fcfd-465a-9757-0fd72dc574b8",
   "metadata": {},
   "outputs": [],
   "source": [
    "print(\"Broj slika u trening skupu:\", len(X_train))\n",
    "print(\"Broj slika u validacionom skupu:\", len(X_val))\n",
    "print(\"Broj slika u test skupu:\", len(X_test))"
   ]
  },
  {
   "cell_type": "markdown",
   "id": "76da6a5b-ba4a-4321-abf1-02d2d60188a7",
   "metadata": {},
   "source": [
    "### Treniranje i evaluacija"
   ]
  },
  {
   "cell_type": "markdown",
   "id": "070a0e4b-8535-4015-8257-bb5247610c58",
   "metadata": {},
   "source": [
    "Konvertovanjem podataka u NumPy nizove se osigurava da su oni u odgovarajućem formatu za dalju obradu u Kerasu ili drugim bibliotekama za mašinsko učenje. Ovo je posebno važno kada se koristi Keras, jer njegove funkcije i metode očekuju da ulazni podaci budu u formi NumPy nizova radi pravilnog funkcionisanja."
   ]
  },
  {
   "cell_type": "code",
   "execution_count": null,
   "id": "afc328e7-c05d-435c-94a2-3e31728094ca",
   "metadata": {},
   "outputs": [],
   "source": [
    "X_train = np.array(X_train)\n",
    "y_train = np.array(y_train)\n",
    "X_val = np.array(X_val)\n",
    "y_val = np.array(y_val)\n",
    "\n",
    "# Treniranje modela\n",
    "history = model.fit(X_train, y_train, validation_data=(X_val, y_val), epochs=10)\n",
    "\n",
    "# Prikazivanje grafika tačnosti\n",
    "plt.plot(history.history['accuracy'], label='Trening')\n",
    "plt.plot(history.history['val_accuracy'], label='Validacija')\n",
    "plt.xlabel('Epoha')\n",
    "plt.ylabel('Preciznost')\n",
    "plt.legend()\n",
    "plt.show()\n"
   ]
  },
  {
   "cell_type": "markdown",
   "id": "0841d3f4-303a-4726-9841-ad2cbe476a67",
   "metadata": {},
   "source": [
    "Ponovo, model se preprilagodio, a preciznost na validacionom skupu nije rasla."
   ]
  },
  {
   "cell_type": "markdown",
   "id": "1cdf02eb-b872-4650-b35a-da10cc08bada",
   "metadata": {},
   "source": [
    "### Evaluacija modela u klasifikaciji satelita"
   ]
  },
  {
   "cell_type": "code",
   "execution_count": null,
   "id": "2e01622b-d186-4108-8307-ef04abf9b00a",
   "metadata": {},
   "outputs": [],
   "source": [
    "predikcije = np.argmax(model.predict(np.array(X_test)), axis=-1)\n",
    "\n",
    "# Stvarne vrednosti za test skup\n",
    "stvarno = np.array(y_test)\n",
    "\n",
    "# Izračunavanje matrice konfuzije\n",
    "matrica_konfuzije = confusion_matrix(stvarno, predikcije)\n",
    "\n",
    "# Kreiranje DataFrame-a za matricu konfuzije\n",
    "matrica_df = pd.DataFrame(matrica_konfuzije, index=sateliti, columns=sateliti)\n",
    "\n",
    "# Prikaz matrice konfuzije \n",
    "plt.figure(figsize=(10, 7))\n",
    "sns.heatmap(matrica_df, annot=True, fmt='d', cmap='Blues')\n",
    "plt.xlabel('Predviđena klasa')\n",
    "plt.ylabel('Stvarna klasa')\n",
    "plt.title('Matrica konfuzije')\n",
    "plt.show()\n",
    "\n",
    "# Evaluacija modela na test skupu\n",
    "gubitak, preciznost = model.evaluate(np.array(X_test), np.array(y_test))\n",
    "print(\"Preciznost na test skupu:\", preciznost)\n",
    "print(\"Gubitak na test skupu:\", gubitak)\n"
   ]
  },
  {
   "cell_type": "markdown",
   "id": "6fae8e43-cc0e-4e96-8646-fa832a0b48cd",
   "metadata": {},
   "source": [
    "Model je imao najviše uspeha u tačnom predviđanju Meseca. \n",
    "Preciznost na test skupu je mala, a gubitak je veliki, što znači da model nema dobru moć generalizacije nad ovim skupom. "
   ]
  },
  {
   "cell_type": "markdown",
   "id": "7c7183cd-c109-4f93-9eba-25130355d087",
   "metadata": {},
   "source": [
    "### Prvi pokušaj optimizacije"
   ]
  },
  {
   "cell_type": "markdown",
   "id": "3c0beb27-ad29-463e-91d8-848c6bbabb9e",
   "metadata": {},
   "source": [
    "Klase su poprilično nebalansirane, što se može videti na sledećem grafiku."
   ]
  },
  {
   "cell_type": "code",
   "execution_count": null,
   "id": "bf477368-53d4-4ad6-a8cf-2e69b1401fbb",
   "metadata": {},
   "outputs": [],
   "source": [
    "import matplotlib.pyplot as plt\n",
    "\n",
    "# Izračunavanje kardinalnosti klasa\n",
    "kardinalnosti = {}\n",
    "for oznaka in oznake:\n",
    "    if oznaka in kardinalnosti:\n",
    "        kardinalnosti[oznaka] += 1\n",
    "    else:\n",
    "        kardinalnosti[oznaka] = 1\n",
    "\n",
    "# Priprema podataka za grafik\n",
    "labels = [f\"{sateliti[klasa]}\" for klasa in kardinalnosti.keys()]\n",
    "values = list(kardinalnosti.values())\n",
    "\n",
    "# Crtanje grafika\n",
    "plt.figure(figsize=(10, 6))\n",
    "plt.bar(labels, values)\n",
    "plt.xlabel('Klasa')\n",
    "plt.ylabel('Kardinalnost')\n",
    "plt.title('Kardinalnost klasa')\n",
    "plt.xticks(rotation=45)\n",
    "plt.show()\n",
    "\n"
   ]
  },
  {
   "cell_type": "markdown",
   "id": "5b288aae-8ff0-43c9-a9d4-912da3788c1a",
   "metadata": {},
   "source": [
    "Da li će balansiranje klasa i uvođenje težina pomoći u optimizaciji modela?"
   ]
  },
  {
   "cell_type": "markdown",
   "id": "56c431bf-71c0-4ba9-accc-8d553f11137c",
   "metadata": {},
   "source": [
    "**Napomena**: Ovaj metod nije primenjen kod klasifikacije planeta jer su sve klase balansirane sa tačno 149 slika u svakoj, pa se u tom slučaju moraju iskoristiti drugi vidovi optimizacije."
   ]
  },
  {
   "cell_type": "markdown",
   "id": "6f6b9755-d1c7-4c03-8650-0faab4537573",
   "metadata": {},
   "source": [
    "### Klasne težine"
   ]
  },
  {
   "cell_type": "markdown",
   "id": "e5313033-9bd5-479e-bb21-29051cc29c98",
   "metadata": {},
   "source": [
    "Argument *class_weight='balanced'* označava da se koristi \"balansirana\" težina za klase, što znači da će manje zastupljene klase imati veću težinu, a više zastupljene klase manju težinu. Funkcija uzima jedinstvene vrednosti iz niza oznake kao *classes* argument, koji predstavlja klase koje treba balansirati, dok *y=oznake* predstavlja sam niz oznaka koje se koriste za izračunavanje težina. Na kraju, funkcija vraća niz težina za svaku klasu, koji se može koristiti u modelu za obučavanje."
   ]
  },
  {
   "cell_type": "code",
   "execution_count": null,
   "id": "1689315c-6457-4f29-bc14-a946af9dd194",
   "metadata": {},
   "outputs": [],
   "source": [
    "from sklearn.utils import class_weight\n",
    "\n",
    "# Izračunanje težine za klase\n",
    "tezine = class_weight.compute_class_weight(class_weight='balanced', classes=np.unique(oznake), y=oznake)\n",
    "\n",
    "# Pretvaranje težine u rečnik koji se može koristiti u modelu\n",
    "tezine_dict = dict(enumerate(tezine))\n"
   ]
  },
  {
   "cell_type": "code",
   "execution_count": null,
   "id": "765a9750-5826-4bfa-83aa-5769f6e1e8b8",
   "metadata": {},
   "outputs": [],
   "source": [
    "# Treniranje modela\n",
    "history = model.fit(X_train, y_train, validation_data=(X_val, y_val), epochs=10, class_weight=tezine_dict)\n",
    "\n",
    "# Prikazivanje grafika tačnosti\n",
    "plt.plot(history.history['accuracy'], label='Trening')\n",
    "plt.plot(history.history['val_accuracy'], label='Validacija')\n",
    "plt.xlabel('Epoha')\n",
    "plt.ylabel('Preciznost')\n",
    "plt.legend()\n",
    "plt.show()\n",
    "\n",
    "# Evaluacija modela na test skupu\n",
    "gubitak, preciznost = model.evaluate(np.array(X_test), np.array(y_test))\n",
    "print(\"Preciznost na test skupu:\", preciznost)\n",
    "print(\"Gubitak na test skupu:\", gubitak)"
   ]
  },
  {
   "cell_type": "markdown",
   "id": "005506bc-3dcb-4ec6-9f44-3b4d5942d209",
   "metadata": {},
   "source": [
    "Da li je model imao poboljšanje posle ove modifikacije će kazati matrica konfuzije."
   ]
  },
  {
   "cell_type": "code",
   "execution_count": null,
   "id": "4d4e61c8-0b22-4c87-bfde-2ec0bc6197ea",
   "metadata": {},
   "outputs": [],
   "source": [
    "predikcije = np.argmax(model.predict(np.array(X_test)), axis=-1)\n",
    "\n",
    "# Stvarne vrednosti za test skup\n",
    "stvarno = np.array(y_test)\n",
    "\n",
    "# Izračunavanje matrice konfuzije\n",
    "matrica_konfuzije = confusion_matrix(stvarno, predikcije)\n",
    "\n",
    "# Kreiranje DataFrame-a za matricu konfuzije\n",
    "matrica_df = pd.DataFrame(matrica_konfuzije, index=sateliti, columns=sateliti)\n",
    "\n",
    "# Prikaz matrice konfuzije \n",
    "plt.figure(figsize=(10, 7))\n",
    "sns.heatmap(matrica_df, annot=True, fmt='d', cmap='Blues')\n",
    "plt.xlabel('Predviđena klasa')\n",
    "plt.ylabel('Stvarna klasa')\n",
    "plt.title('Matrica konfuzije')\n",
    "plt.show()\n",
    "\n",
    "# Evaluacija modela na test skupu\n",
    "gubitak, preciznost = model.evaluate(np.array(X_test), np.array(y_test))\n",
    "print(\"Preciznost na test skupu:\", preciznost)\n",
    "print(\"Gubitak na test skupu:\", gubitak)\n"
   ]
  },
  {
   "cell_type": "markdown",
   "id": "598e4505-dd98-4b9d-be3e-25745c4b59e4",
   "metadata": {},
   "source": [
    "Ovaj metod optimizacije nije ispunio očekivanja."
   ]
  },
  {
   "cell_type": "markdown",
   "id": "42ab39ba-62b9-47fe-8f8d-a2842b65bc40",
   "metadata": {},
   "source": [
    "### Upotreba modela u klasifikaciji satelita"
   ]
  },
  {
   "cell_type": "code",
   "execution_count": null,
   "id": "fb6623ce-74cd-4455-a70b-2d9124b69fa7",
   "metadata": {},
   "outputs": [],
   "source": [
    "import matplotlib.pyplot as plt\n",
    "# Prikazuje 3x3 matricu slika sa predviđenim i stvarnim klasama\n",
    "def prikazi_matricu_slika(slike, predvidjene_klase, stvarne_klase):\n",
    "    plt.figure(figsize=(10, 10))\n",
    "    for i in range(9):\n",
    "        plt.subplot(3, 3, i + 1)\n",
    "        plt.imshow(slike[i])\n",
    "        satelit_ime = sateliti[predvidjene_klase[i]]\n",
    "        planeta_satelita = planeta_kojoj_pripada(satelit_ime)\n",
    "        plt.title(f'Predvidjena klasa: {satelit_ime},{planeta_satelita}\\nStvarna klasa: {sateliti[stvarne_klase[i]]},{planeta_kojoj_pripada(sateliti[stvarne_klase[i]])}')\n",
    "        plt.axis('off')\n",
    "    plt.tight_layout()\n",
    "    plt.show()\n",
    "\n",
    "# Prikazuje matricu 3x3 primera iz test skupa\n",
    "broj_prikaza = 9\n",
    "indeksi = np.random.choice(range(len(X_test)), broj_prikaza, replace=False)\n",
    "slike_prikaz = [X_test[idx] for idx in indeksi]\n",
    "predvidjene_klase = [np.argmax(model.predict(np.expand_dims(slika, axis=0))) for slika in slike_prikaz]\n",
    "stvarne_klase = [y_test[idx] for idx in indeksi]\n",
    "\n",
    "prikazi_matricu_slika(slike_prikaz, predvidjene_klase, stvarne_klase)\n"
   ]
  },
  {
   "cell_type": "markdown",
   "id": "5716c87f-009e-4770-bd6e-a406b59f4939",
   "metadata": {},
   "source": [
    "Ovaj vid optimizacije nije dao zadovoljavajuće rezultate i još uvek je sklon davanju prednosti jednoj klasi, i takođe se preprilagodio - gubitak je veliki.    \n",
    "Poboljšanje se može videti u povećanju sposobnosti razlikovanja satelita Io i Zemljinog Meseca.  \n",
    "U sledećem delu, biće prikazan drugi mogući način prevazilaženja ovog problema."
   ]
  }
 ],
 "metadata": {
  "kernelspec": {
   "display_name": "Python 3 (ipykernel)",
   "language": "python",
   "name": "python3"
  },
  "language_info": {
   "codemirror_mode": {
    "name": "ipython",
    "version": 3
   },
   "file_extension": ".py",
   "mimetype": "text/x-python",
   "name": "python",
   "nbconvert_exporter": "python",
   "pygments_lexer": "ipython3",
   "version": "3.10.12"
  }
 },
 "nbformat": 4,
 "nbformat_minor": 5
}
