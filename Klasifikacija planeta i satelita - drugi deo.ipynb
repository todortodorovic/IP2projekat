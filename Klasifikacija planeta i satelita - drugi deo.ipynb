{
 "cells": [
  {
   "cell_type": "markdown",
   "id": "54bd8248-8e46-41bf-98ec-b93743f856b0",
   "metadata": {},
   "source": [
    "### Drugi deo - klasifikacija planeta i satelita uz veštačku augmentaciju slika"
   ]
  },
  {
   "cell_type": "markdown",
   "id": "7245f099-f251-4af9-a652-01893df5dd89",
   "metadata": {},
   "source": [
    "Kao pokušaj poboljšanja efikasnosti modela, augmentacija slika može da pomogne. Tako će se baza slika proširiti i model će imati veći skup na raspolaganju za učenje, validaciju i treniranje, i bolju sposobnost prilagođavaja na neviđenim podacima.\n"
   ]
  },
  {
   "cell_type": "markdown",
   "id": "1afc3956-0ccd-45c3-8a44-fe3989f483d4",
   "metadata": {},
   "source": [
    "Biće primenjen isti model kao i u prvom delu, kako na planetama tako i na satelitima, radi upoređivanja konačnih dobijenih rezultata."
   ]
  },
  {
   "cell_type": "markdown",
   "id": "b5c8ee84-e416-437b-b3e7-7bfe0f6f8192",
   "metadata": {},
   "source": [
    "## Planete"
   ]
  },
  {
   "cell_type": "markdown",
   "id": "261fa1a0-67e0-4147-ae7a-16be1a783a3d",
   "metadata": {},
   "source": [
    "Za učitavanje slika, ovaj put će biti prikazano korišćenje klase ImageDataGenerator."
   ]
  },
  {
   "cell_type": "markdown",
   "id": "d73c1800-eea0-4762-977a-7327482c4ea6",
   "metadata": {},
   "source": [
    "Klasa *ImageDataGenerator* u Kerasu omogućava različite tehnike augmentacije podataka, poput rotacije, skaliranja, horizontalnog i vertikalnog zrcaljenja, promene svetline i kontrasta, što pomaže u obogaćivanju skupa podataka i poboljšanju generalizacije modela.  \n",
    "\n",
    "ImageDataGenerator se obično koristi zajedno sa metodama *flow_from_directory* ili *flow* za generisanje podataka u obliku koji je pogodan za treniranje modela."
   ]
  },
  {
   "cell_type": "markdown",
   "id": "4c66b1ee-3b48-417e-aab7-ea3b5ceada0d",
   "metadata": {},
   "source": [
    "##### Učitavanje potrebnih biblioteka"
   ]
  },
  {
   "cell_type": "code",
   "execution_count": 1,
   "id": "6fac2c26-7153-4986-a024-2f50880311e7",
   "metadata": {},
   "outputs": [
    {
     "name": "stderr",
     "output_type": "stream",
     "text": [
      "2024-03-11 16:05:10.764936: I external/local_tsl/tsl/cuda/cudart_stub.cc:31] Could not find cuda drivers on your machine, GPU will not be used.\n",
      "2024-03-11 16:05:10.954821: E external/local_xla/xla/stream_executor/cuda/cuda_dnn.cc:9261] Unable to register cuDNN factory: Attempting to register factory for plugin cuDNN when one has already been registered\n",
      "2024-03-11 16:05:10.954875: E external/local_xla/xla/stream_executor/cuda/cuda_fft.cc:607] Unable to register cuFFT factory: Attempting to register factory for plugin cuFFT when one has already been registered\n",
      "2024-03-11 16:05:10.989124: E external/local_xla/xla/stream_executor/cuda/cuda_blas.cc:1515] Unable to register cuBLAS factory: Attempting to register factory for plugin cuBLAS when one has already been registered\n",
      "2024-03-11 16:05:11.081422: I external/local_tsl/tsl/cuda/cudart_stub.cc:31] Could not find cuda drivers on your machine, GPU will not be used.\n",
      "2024-03-11 16:05:11.081791: I tensorflow/core/platform/cpu_feature_guard.cc:182] This TensorFlow binary is optimized to use available CPU instructions in performance-critical operations.\n",
      "To enable the following instructions: AVX2 FMA, in other operations, rebuild TensorFlow with the appropriate compiler flags.\n",
      "2024-03-11 16:05:12.043506: W tensorflow/compiler/tf2tensorrt/utils/py_utils.cc:38] TF-TRT Warning: Could not find TensorRT\n"
     ]
    }
   ],
   "source": [
    "import pandas as pd\n",
    "import numpy as np\n",
    "import os\n",
    "import tensorflow as tf\n",
    "import cv2\n",
    "import random\n",
    "from tensorflow import keras\n",
    "from tensorflow.keras.layers import Dense, Input, InputLayer, Flatten\n",
    "from tensorflow.keras.models import Sequential, Model\n",
    "from  matplotlib import pyplot as plt\n",
    "import matplotlib.image as mpimg\n",
    "%matplotlib inline"
   ]
  },
  {
   "cell_type": "markdown",
   "id": "81ca743c-d435-42c4-bae3-4d4b95b0a5de",
   "metadata": {},
   "source": [
    "I ovog puta, baza slika će biti kreirana pomoću putanja do njih."
   ]
  },
  {
   "cell_type": "code",
   "execution_count": 13,
   "id": "0aaf2839-61a8-49ea-89f2-27b0a38d69d2",
   "metadata": {},
   "outputs": [
    {
     "name": "stdout",
     "output_type": "stream",
     "text": [
      "Found 834 validated image filenames belonging to 8 classes.\n",
      "Found 358 validated image filenames belonging to 8 classes.\n"
     ]
    }
   ],
   "source": [
    "import os\n",
    "from sklearn.model_selection import train_test_split\n",
    "from tensorflow.keras.preprocessing.image import ImageDataGenerator\n",
    "\n",
    "# Koreni direktorijum u kom se nalaze slike\n",
    "data_dir = 'planete'\n",
    "\n",
    "# Definisanje imena klasa u alfabetskom redu\n",
    "planete = ['Jupiter', 'Mars', 'Merkur', 'Neptun', 'Saturn', 'Uran', 'Venera', 'Zemlja']\n",
    "\n",
    "# Definisanje praznih listi u koje će biti smeštene putanje i oznake klasa\n",
    "putanje = []\n",
    "oznake = []\n",
    "\n",
    "# Popunjavnje listi\n",
    "for i, planeta in enumerate(planete):\n",
    "    planeta_dir = os.path.join(data_dir, planeta)\n",
    "    fajlovi = os.listdir(planeta_dir)\n",
    "    putanje += [os.path.join(planeta_dir, fajl) for fajl in fajlovi]\n",
    "    oznake += [i] * len(fajlovi)\n",
    "\n",
    "# Stratifikovana podela skupa na test i trening, 70% za trening, 30% za test\n",
    "# Random_state parametar je tu da bi podela pri svakom pokretanju bila istovetna\n",
    "X_train, X_test, y_train, y_test = train_test_split(putanje, oznake, test_size=0.3, stratify=oznake, random_state=42)\n",
    "\n",
    "# Konvertovanje oznaka, koje su trenutno tipa int, u stringove, da bi model mogao da ih primi\n",
    "y_train = [str(oznaka) for oznaka in y_train]\n",
    "y_test = [str(oznaka) for oznaka in y_test]\n",
    "\n",
    "dataframe = pd.DataFrame({'filename':X_train, 'class':y_train})\n",
    "\n",
    "# Korišćenje klase ImageDataGeneratori definisanje augmentacija koje će biti primenjene na slike\n",
    "datagen = ImageDataGenerator(\n",
    "    rescale=1./255,  # Normalizacija piksela na [0, 1]\n",
    "    rotation_range=20,  # Nasumična rotacija slika do 20 stepeni\n",
    "    width_shift_range=0.2,  # Nasumično pomeranje slika horizontalno do 20% širine\n",
    "    height_shift_range=0.2,  # Nasumično pomeranje slika vertikalno do 20% visine\n",
    "    shear_range=0.2,  # Ugao pomeranja u radijanima\n",
    "    zoom_range=0.2,  # Nasumično uvećanje slika do 20% \n",
    "    horizontal_flip=True,  # Nasumično horizontalno obrtanje slika\n",
    "    fill_mode='nearest'  # U slučaju nedostajućih piksela, popuniti vrednosti koristeći najbližu vrednost\n",
    ")\n",
    "\n",
    "# Definisanje veličine gomile i veličine slike\n",
    "batch_size = 32\n",
    "target_size = (256, 256) \n",
    "\n",
    "# Generatori za trening i test skup\n",
    "train_generator = datagen.flow_from_dataframe(\n",
    "    dataframe=pd.DataFrame({'filename': X_train, 'class': y_train}),\n",
    "    directory=None,\n",
    "    x_col='filename',\n",
    "    y_col='class',\n",
    "    target_size=target_size,\n",
    "    batch_size=batch_size,\n",
    "    class_mode='sparse', \n",
    "    interpolation=\"lanczos\",\n",
    "    shuffle=True\n",
    ")\n",
    "\n",
    "test_generator = datagen.flow_from_dataframe(\n",
    "    dataframe=pd.DataFrame({'filename': X_test, 'class': y_test}),\n",
    "    directory=None,\n",
    "    x_col='filename',\n",
    "    y_col='class',\n",
    "    target_size=target_size,\n",
    "    batch_size=batch_size,\n",
    "    class_mode='sparse',\n",
    "    interpolation=\"lanczos\",\n",
    "    shuffle=False\n",
    ")"
   ]
  },
  {
   "cell_type": "markdown",
   "id": "d50e097a-23ce-48cd-ad0e-d1d1a4971d51",
   "metadata": {},
   "source": [
    "##### Učitavanje prethodno napravljenog modela"
   ]
  },
  {
   "cell_type": "code",
   "execution_count": 9,
   "id": "ab387b0f-a146-41be-9624-f23e35065ac4",
   "metadata": {},
   "outputs": [],
   "source": [
    "from tensorflow.keras.models import load_model\n",
    "\n",
    "model = load_model('modelP')"
   ]
  },
  {
   "cell_type": "markdown",
   "id": "80c89d28-f2bb-4231-88f3-bfaf66fcebc7",
   "metadata": {},
   "source": [
    "### Kompilacija, treniranje i evaluacija modela"
   ]
  },
  {
   "cell_type": "code",
   "execution_count": 14,
   "id": "b24973bb-0717-4e82-b05f-cb2b2cda284e",
   "metadata": {},
   "outputs": [
    {
     "name": "stdout",
     "output_type": "stream",
     "text": [
      "Epoch 1/20\n",
      "27/27 [==============================] - 41s 1s/step - loss: 0.1533 - accuracy: 0.9484\n",
      "Epoch 2/20\n",
      "27/27 [==============================] - 40s 1s/step - loss: 0.1247 - accuracy: 0.9436\n",
      "Epoch 3/20\n",
      "27/27 [==============================] - 37s 1s/step - loss: 0.1117 - accuracy: 0.9652\n",
      "Epoch 4/20\n",
      "27/27 [==============================] - 36s 1s/step - loss: 0.0861 - accuracy: 0.9676\n",
      "Epoch 5/20\n",
      "27/27 [==============================] - 37s 1s/step - loss: 0.0995 - accuracy: 0.9724\n",
      "Epoch 6/20\n",
      "27/27 [==============================] - 37s 1s/step - loss: 0.0676 - accuracy: 0.9772\n",
      "Epoch 7/20\n",
      "27/27 [==============================] - 37s 1s/step - loss: 0.1220 - accuracy: 0.9748\n",
      "Epoch 8/20\n",
      "27/27 [==============================] - 40s 1s/step - loss: 0.0888 - accuracy: 0.9700\n",
      "Epoch 9/20\n",
      "27/27 [==============================] - 39s 1s/step - loss: 0.0527 - accuracy: 0.9796\n",
      "Epoch 10/20\n",
      "27/27 [==============================] - 36s 1s/step - loss: 0.0434 - accuracy: 0.9868\n",
      "Epoch 11/20\n",
      "27/27 [==============================] - 40s 1s/step - loss: 0.0271 - accuracy: 0.9892\n",
      "Epoch 12/20\n",
      "27/27 [==============================] - 41s 1s/step - loss: 0.0301 - accuracy: 0.9892\n",
      "Epoch 13/20\n",
      "27/27 [==============================] - 40s 1s/step - loss: 0.0219 - accuracy: 0.9928\n",
      "Epoch 14/20\n",
      "27/27 [==============================] - 37s 1s/step - loss: 0.0243 - accuracy: 0.9928\n",
      "Epoch 15/20\n",
      "27/27 [==============================] - 38s 1s/step - loss: 0.0703 - accuracy: 0.9832\n",
      "Epoch 16/20\n",
      "27/27 [==============================] - 39s 1s/step - loss: 0.2125 - accuracy: 0.9388\n",
      "Epoch 17/20\n",
      "27/27 [==============================] - 39s 1s/step - loss: 0.1146 - accuracy: 0.9676\n",
      "Epoch 18/20\n",
      "27/27 [==============================] - 39s 1s/step - loss: 0.0613 - accuracy: 0.9808\n",
      "Epoch 19/20\n",
      "27/27 [==============================] - 37s 1s/step - loss: 0.0879 - accuracy: 0.9724\n",
      "Epoch 20/20\n",
      "27/27 [==============================] - 36s 1s/step - loss: 0.2709 - accuracy: 0.9305\n",
      "12/12 [==============================] - 6s 484ms/step - loss: 3.0935 - accuracy: 0.6229\n",
      "Preciznost na test skupu: 0.6229050159454346\n",
      "Gubitak na test skupu: 3.093496084213257\n"
     ]
    }
   ],
   "source": [
    "model.compile(optimizer='adam', loss='sparse_categorical_crossentropy', metrics=['accuracy'])\n",
    "model.fit(train_generator, batch_size=batch_size, epochs=20, verbose=1)\n",
    "\n",
    "evaluacija = model.evaluate(test_generator)\n",
    "print(\"Preciznost na test skupu:\", evaluacija[1])\n",
    "print(\"Gubitak na test skupu:\", evaluacija[0])\n"
   ]
  },
  {
   "cell_type": "code",
   "execution_count": null,
   "id": "cd905ea5-6d8e-47f4-be31-d615d01a402d",
   "metadata": {},
   "outputs": [],
   "source": []
  }
 ],
 "metadata": {
  "kernelspec": {
   "display_name": "Python 3 (ipykernel)",
   "language": "python",
   "name": "python3"
  },
  "language_info": {
   "codemirror_mode": {
    "name": "ipython",
    "version": 3
   },
   "file_extension": ".py",
   "mimetype": "text/x-python",
   "name": "python",
   "nbconvert_exporter": "python",
   "pygments_lexer": "ipython3",
   "version": "3.10.12"
  }
 },
 "nbformat": 4,
 "nbformat_minor": 5
}
